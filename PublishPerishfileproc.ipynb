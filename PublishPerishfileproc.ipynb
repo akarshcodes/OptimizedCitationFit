{
  "nbformat": 4,
  "nbformat_minor": 0,
  "metadata": {
    "colab": {
      "provenance": []
    },
    "kernelspec": {
      "name": "python3",
      "display_name": "Python 3"
    },
    "language_info": {
      "name": "python"
    }
  },
  "cells": [
    {
      "cell_type": "code",
      "execution_count": null,
      "metadata": {
        "id": "OvGmBWLvGLfJ"
      },
      "outputs": [],
      "source": [
        "import pandas as pd\n",
        "from google.colab import files\n",
        "\n",
        "uploaded = files.upload()\n",
        "file_path = next(iter(uploaded))\n",
        "\n",
        "excel_data = pd.ExcelFile(file_path)\n",
        "output_path = '/mnt/data/PublishPerish_corrected.xlsx'\n",
        "writer = pd.ExcelWriter(output_path, engine='xlsxwriter')\n",
        "\n",
        "for sheet_name in excel_data.sheet_names:\n",
        "    df = excel_data.parse(sheet_name)\n",
        "    df = df[df['Cites'] != 0]\n",
        "    df = df.sort_values(by='Cites')\n",
        "    df['Serial Number'] = range(1, len(df) + 1)\n",
        "    df.to_excel(writer, sheet_name=sheet_name, index=False)\n",
        "\n",
        "writer.save()\n",
        "output_path\n"
      ]
    }
  ]
}