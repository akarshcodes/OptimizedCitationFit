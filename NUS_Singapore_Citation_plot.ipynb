{
  "nbformat": 4,
  "nbformat_minor": 0,
  "metadata": {
    "colab": {
      "provenance": []
    },
    "kernelspec": {
      "name": "python3",
      "display_name": "Python 3"
    },
    "language_info": {
      "name": "python"
    }
  },
  "cells": [
    {
      "cell_type": "code",
      "execution_count": null,
      "metadata": {
        "id": "JuISdhbHVrdz"
      },
      "outputs": [],
      "source": [
        "!pip install python-docx\n",
        "import pandas as pd\n",
        "import numpy as np\n",
        "from scipy.optimize import minimize\n",
        "import matplotlib.pyplot as plt\n",
        "from google.colab import files\n",
        "from docx import Document\n",
        "from docx.shared import Inches\n",
        "\n",
        "uploaded = files.upload()\n",
        "file_name = list(uploaded.keys())[0]\n",
        "data = pd.read_csv(file_name)\n",
        "\n",
        "x_data = data['Serial Number'].values\n",
        "y_data = data['Cites'].values\n",
        "\n",
        "def equation(params, x):\n",
        "    a, b, c = params\n",
        "    return (b / (x + c)) - a\n",
        "\n",
        "def mse_loss(params, x, y):\n",
        "    y_pred = equation(params, x)\n",
        "    return np.mean((y - y_pred) ** 2)\n",
        "\n",
        "initial_params = [1.0, 1.0, 1.0]\n",
        "\n",
        "result = minimize(mse_loss, initial_params, args=(x_data, y_data), bounds=[(0, None), (0, None), (0, None)])\n",
        "a_opt, b_opt, c_opt = result.x\n",
        "\n",
        "fitted_values = equation([a_opt, b_opt, c_opt], x_data)\n",
        "\n",
        "data['fitted'] = fitted_values\n",
        "data['a'] = a_opt\n",
        "data['b'] = b_opt\n",
        "data['c'] = c_opt\n",
        "\n",
        "output_file = 'fitted_citation_data.csv'\n",
        "data.to_csv(output_file, index=False)\n",
        "\n",
        "plt.scatter(x_data, y_data, label='Original Data')\n",
        "plt.plot(x_data, fitted_values, color='red', label='Fitted Values')\n",
        "plt.xlabel('x')\n",
        "plt.ylabel('y')\n",
        "plt.legend()\n",
        "\n",
        "plot_file = 'fitted_plot.png'\n",
        "plt.savefig(plot_file)\n",
        "plt.show()\n",
        "\n",
        "doc = Document()\n",
        "doc.add_heading('Fitted Citation Data', 0)\n",
        "doc.add_picture(plot_file, width=Inches(6))\n",
        "doc.add_paragraph(f'Optimized parameters:\\na = {a_opt}\\nb = {b_opt}\\nc = {c_opt}')\n",
        "\n",
        "doc_file = 'fitted_citation_data.docx'\n",
        "doc.save(doc_file)\n",
        "\n",
        "files.download(output_file)\n",
        "files.download(doc_file)\n"
      ]
    }
  ]
}