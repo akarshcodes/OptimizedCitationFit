{
  "nbformat": 4,
  "nbformat_minor": 0,
  "metadata": {
    "colab": {
      "provenance": []
    },
    "kernelspec": {
      "name": "python3",
      "display_name": "Python 3"
    },
    "language_info": {
      "name": "python"
    }
  },
  "cells": [
    {
      "cell_type": "code",
      "execution_count": 36,
      "metadata": {
        "id": "M4wN3be7a1H6"
      },
      "outputs": [],
      "source": [
        "\n",
        "import pandas as pd\n",
        "\n",
        "file_path = '/content/processed_excel_file.xlsx'\n",
        "xl = pd.ExcelFile(file_path)\n",
        "\n",
        "new_file_path = 'path_to_save_modified_file.xlsx'\n",
        "writer = pd.ExcelWriter(new_file_path, engine='xlsxwriter')\n",
        "\n",
        "for sheet_name in xl.sheet_names:\n",
        "    df = xl.parse(sheet_name)\n",
        "\n",
        "    df['Cites'] = df['Cites'].astype(str).str.strip('*')\n",
        "    df['Cites'] = pd.to_numeric(df['Cites'], errors='coerce')\n",
        "\n",
        "    df.to_excel(writer, sheet_name=sheet_name, index=False)\n",
        "\n",
        "writer.close()\n"
      ]
    }
  ]
}