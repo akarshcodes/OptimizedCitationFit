{
  "nbformat": 4,
  "nbformat_minor": 0,
  "metadata": {
    "colab": {
      "provenance": []
    },
    "kernelspec": {
      "name": "python3",
      "display_name": "Python 3"
    },
    "language_info": {
      "name": "python"
    }
  },
  "cells": [
    {
      "cell_type": "code",
      "execution_count": 15,
      "metadata": {
        "id": "M4wN3be7a1H6"
      },
      "outputs": [],
      "source": [
        "import pandas as pd\n",
        "\n",
        "# Load the Excel file into a Pandas ExcelFile object\n",
        "excel_file = pd.ExcelFile('/content/processed_excel_file.xlsx')\n",
        "\n",
        "# Read each sheet into a DataFrame, process the \"Cites\" column, and save to a new Excel file\n",
        "with pd.ExcelWriter('output_excel_file.xlsx') as writer:\n",
        "    for sheet_name in excel_file.sheet_names:\n",
        "        # Read the sheet into a DataFrame\n",
        "        df = excel_file.parse(sheet_name)\n",
        "\n",
        "        # Convert \"Cites\" column to strings and then process to remove \"*\" marks from numbers\n",
        "        df['Cites'] = df['Cites'].astype(str).str.replace('*', '', regex=False)\n",
        "\n",
        "        # Save the modified DataFrame to the new Excel file\n",
        "        df.to_excel(writer, sheet_name=sheet_name, index=False)\n",
        "\n"
      ]
    }
  ]
}